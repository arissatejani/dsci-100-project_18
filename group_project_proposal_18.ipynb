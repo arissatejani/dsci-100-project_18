{
 "cells": [
  {
   "cell_type": "code",
   "execution_count": 1,
   "id": "70ad3253-4a9a-474b-b3e8-7acd86c62376",
   "metadata": {},
   "outputs": [
    {
     "name": "stderr",
     "output_type": "stream",
     "text": [
      "── \u001b[1mAttaching packages\u001b[22m ─────────────────────────────────────── tidyverse 1.3.1 ──\n",
      "\n",
      "\u001b[32m✔\u001b[39m \u001b[34mggplot2\u001b[39m 3.3.6     \u001b[32m✔\u001b[39m \u001b[34mpurrr  \u001b[39m 0.3.4\n",
      "\u001b[32m✔\u001b[39m \u001b[34mtibble \u001b[39m 3.1.7     \u001b[32m✔\u001b[39m \u001b[34mdplyr  \u001b[39m 1.0.9\n",
      "\u001b[32m✔\u001b[39m \u001b[34mtidyr  \u001b[39m 1.2.0     \u001b[32m✔\u001b[39m \u001b[34mstringr\u001b[39m 1.4.0\n",
      "\u001b[32m✔\u001b[39m \u001b[34mreadr  \u001b[39m 2.1.2     \u001b[32m✔\u001b[39m \u001b[34mforcats\u001b[39m 0.5.1\n",
      "\n",
      "── \u001b[1mConflicts\u001b[22m ────────────────────────────────────────── tidyverse_conflicts() ──\n",
      "\u001b[31m✖\u001b[39m \u001b[34mdplyr\u001b[39m::\u001b[32mfilter()\u001b[39m masks \u001b[34mstats\u001b[39m::filter()\n",
      "\u001b[31m✖\u001b[39m \u001b[34mdplyr\u001b[39m::\u001b[32mlag()\u001b[39m    masks \u001b[34mstats\u001b[39m::lag()\n",
      "\n",
      "── \u001b[1mAttaching packages\u001b[22m ────────────────────────────────────── tidymodels 1.0.0 ──\n",
      "\n",
      "\u001b[32m✔\u001b[39m \u001b[34mbroom       \u001b[39m 1.0.0     \u001b[32m✔\u001b[39m \u001b[34mrsample     \u001b[39m 1.0.0\n",
      "\u001b[32m✔\u001b[39m \u001b[34mdials       \u001b[39m 1.0.0     \u001b[32m✔\u001b[39m \u001b[34mtune        \u001b[39m 1.0.0\n",
      "\u001b[32m✔\u001b[39m \u001b[34minfer       \u001b[39m 1.0.2     \u001b[32m✔\u001b[39m \u001b[34mworkflows   \u001b[39m 1.0.0\n",
      "\u001b[32m✔\u001b[39m \u001b[34mmodeldata   \u001b[39m 1.0.0     \u001b[32m✔\u001b[39m \u001b[34mworkflowsets\u001b[39m 1.0.0\n",
      "\u001b[32m✔\u001b[39m \u001b[34mparsnip     \u001b[39m 1.0.0     \u001b[32m✔\u001b[39m \u001b[34myardstick   \u001b[39m 1.0.0\n",
      "\u001b[32m✔\u001b[39m \u001b[34mrecipes     \u001b[39m 1.0.1     \n",
      "\n",
      "── \u001b[1mConflicts\u001b[22m ───────────────────────────────────────── tidymodels_conflicts() ──\n",
      "\u001b[31m✖\u001b[39m \u001b[34mscales\u001b[39m::\u001b[32mdiscard()\u001b[39m masks \u001b[34mpurrr\u001b[39m::discard()\n",
      "\u001b[31m✖\u001b[39m \u001b[34mdplyr\u001b[39m::\u001b[32mfilter()\u001b[39m   masks \u001b[34mstats\u001b[39m::filter()\n",
      "\u001b[31m✖\u001b[39m \u001b[34mrecipes\u001b[39m::\u001b[32mfixed()\u001b[39m  masks \u001b[34mstringr\u001b[39m::fixed()\n",
      "\u001b[31m✖\u001b[39m \u001b[34mdplyr\u001b[39m::\u001b[32mlag()\u001b[39m      masks \u001b[34mstats\u001b[39m::lag()\n",
      "\u001b[31m✖\u001b[39m \u001b[34myardstick\u001b[39m::\u001b[32mspec()\u001b[39m masks \u001b[34mreadr\u001b[39m::spec()\n",
      "\u001b[31m✖\u001b[39m \u001b[34mrecipes\u001b[39m::\u001b[32mstep()\u001b[39m   masks \u001b[34mstats\u001b[39m::step()\n",
      "\u001b[34m•\u001b[39m Learn how to get started at \u001b[32mhttps://www.tidymodels.org/start/\u001b[39m\n",
      "\n"
     ]
    }
   ],
   "source": [
    "library(tidyverse)\n",
    "library(repr)\n",
    "library(tidymodels)\n",
    "options(repr.matrix.max.rows = 10)"
   ]
  },
  {
   "cell_type": "code",
   "execution_count": 2,
   "id": "24e5d9d5-dc0e-4e4c-bcab-c37a5194765e",
   "metadata": {},
   "outputs": [
    {
     "name": "stderr",
     "output_type": "stream",
     "text": [
      "\u001b[1mRows: \u001b[22m\u001b[34m583\u001b[39m \u001b[1mColumns: \u001b[22m\u001b[34m11\u001b[39m\n",
      "\u001b[36m──\u001b[39m \u001b[1mColumn specification\u001b[22m \u001b[36m────────────────────────────────────────────────────────\u001b[39m\n",
      "\u001b[1mDelimiter:\u001b[22m \",\"\n",
      "\u001b[31mchr\u001b[39m  (1): Gender\n",
      "\u001b[32mdbl\u001b[39m (10): Age, Total_Bilirubin, Direct_Bilirubin, Alkaline_Phosphotase, Alam...\n",
      "\n",
      "\u001b[36mℹ\u001b[39m Use `spec()` to retrieve the full column specification for this data.\n",
      "\u001b[36mℹ\u001b[39m Specify the column types or set `show_col_types = FALSE` to quiet this message.\n"
     ]
    },
    {
     "data": {
      "text/html": [
       "<table class=\"dataframe\">\n",
       "<caption>A spec_tbl_df: 583 × 11</caption>\n",
       "<thead>\n",
       "\t<tr><th scope=col>Age</th><th scope=col>Gender</th><th scope=col>Total_Bilirubin</th><th scope=col>Direct_Bilirubin</th><th scope=col>Alkaline_Phosphotase</th><th scope=col>Alamine_Aminotransferase</th><th scope=col>Aspartate_Aminotransferase</th><th scope=col>Total_Protiens</th><th scope=col>Albumin</th><th scope=col>Albumin_and_Globulin_Ratio</th><th scope=col>Dataset</th></tr>\n",
       "\t<tr><th scope=col>&lt;dbl&gt;</th><th scope=col>&lt;chr&gt;</th><th scope=col>&lt;dbl&gt;</th><th scope=col>&lt;dbl&gt;</th><th scope=col>&lt;dbl&gt;</th><th scope=col>&lt;dbl&gt;</th><th scope=col>&lt;dbl&gt;</th><th scope=col>&lt;dbl&gt;</th><th scope=col>&lt;dbl&gt;</th><th scope=col>&lt;dbl&gt;</th><th scope=col>&lt;dbl&gt;</th></tr>\n",
       "</thead>\n",
       "<tbody>\n",
       "\t<tr><td>65</td><td>Female</td><td> 0.7</td><td>0.1</td><td>187</td><td>16</td><td> 18</td><td>6.8</td><td>3.3</td><td>0.90</td><td>1</td></tr>\n",
       "\t<tr><td>62</td><td>Male  </td><td>10.9</td><td>5.5</td><td>699</td><td>64</td><td>100</td><td>7.5</td><td>3.2</td><td>0.74</td><td>1</td></tr>\n",
       "\t<tr><td>62</td><td>Male  </td><td> 7.3</td><td>4.1</td><td>490</td><td>60</td><td> 68</td><td>7.0</td><td>3.3</td><td>0.89</td><td>1</td></tr>\n",
       "\t<tr><td>58</td><td>Male  </td><td> 1.0</td><td>0.4</td><td>182</td><td>14</td><td> 20</td><td>6.8</td><td>3.4</td><td>1.00</td><td>1</td></tr>\n",
       "\t<tr><td>72</td><td>Male  </td><td> 3.9</td><td>2.0</td><td>195</td><td>27</td><td> 59</td><td>7.3</td><td>2.4</td><td>0.40</td><td>1</td></tr>\n",
       "\t<tr><td>⋮</td><td>⋮</td><td>⋮</td><td>⋮</td><td>⋮</td><td>⋮</td><td>⋮</td><td>⋮</td><td>⋮</td><td>⋮</td><td>⋮</td></tr>\n",
       "\t<tr><td>60</td><td>Male</td><td>0.5</td><td>0.1</td><td>500</td><td>20</td><td>34</td><td>5.9</td><td>1.6</td><td>0.37</td><td>2</td></tr>\n",
       "\t<tr><td>40</td><td>Male</td><td>0.6</td><td>0.1</td><td> 98</td><td>35</td><td>31</td><td>6.0</td><td>3.2</td><td>1.10</td><td>1</td></tr>\n",
       "\t<tr><td>52</td><td>Male</td><td>0.8</td><td>0.2</td><td>245</td><td>48</td><td>49</td><td>6.4</td><td>3.2</td><td>1.00</td><td>1</td></tr>\n",
       "\t<tr><td>31</td><td>Male</td><td>1.3</td><td>0.5</td><td>184</td><td>29</td><td>32</td><td>6.8</td><td>3.4</td><td>1.00</td><td>1</td></tr>\n",
       "\t<tr><td>38</td><td>Male</td><td>1.0</td><td>0.3</td><td>216</td><td>21</td><td>24</td><td>7.3</td><td>4.4</td><td>1.50</td><td>2</td></tr>\n",
       "</tbody>\n",
       "</table>\n"
      ],
      "text/latex": [
       "A spec\\_tbl\\_df: 583 × 11\n",
       "\\begin{tabular}{lllllllllll}\n",
       " Age & Gender & Total\\_Bilirubin & Direct\\_Bilirubin & Alkaline\\_Phosphotase & Alamine\\_Aminotransferase & Aspartate\\_Aminotransferase & Total\\_Protiens & Albumin & Albumin\\_and\\_Globulin\\_Ratio & Dataset\\\\\n",
       " <dbl> & <chr> & <dbl> & <dbl> & <dbl> & <dbl> & <dbl> & <dbl> & <dbl> & <dbl> & <dbl>\\\\\n",
       "\\hline\n",
       "\t 65 & Female &  0.7 & 0.1 & 187 & 16 &  18 & 6.8 & 3.3 & 0.90 & 1\\\\\n",
       "\t 62 & Male   & 10.9 & 5.5 & 699 & 64 & 100 & 7.5 & 3.2 & 0.74 & 1\\\\\n",
       "\t 62 & Male   &  7.3 & 4.1 & 490 & 60 &  68 & 7.0 & 3.3 & 0.89 & 1\\\\\n",
       "\t 58 & Male   &  1.0 & 0.4 & 182 & 14 &  20 & 6.8 & 3.4 & 1.00 & 1\\\\\n",
       "\t 72 & Male   &  3.9 & 2.0 & 195 & 27 &  59 & 7.3 & 2.4 & 0.40 & 1\\\\\n",
       "\t ⋮ & ⋮ & ⋮ & ⋮ & ⋮ & ⋮ & ⋮ & ⋮ & ⋮ & ⋮ & ⋮\\\\\n",
       "\t 60 & Male & 0.5 & 0.1 & 500 & 20 & 34 & 5.9 & 1.6 & 0.37 & 2\\\\\n",
       "\t 40 & Male & 0.6 & 0.1 &  98 & 35 & 31 & 6.0 & 3.2 & 1.10 & 1\\\\\n",
       "\t 52 & Male & 0.8 & 0.2 & 245 & 48 & 49 & 6.4 & 3.2 & 1.00 & 1\\\\\n",
       "\t 31 & Male & 1.3 & 0.5 & 184 & 29 & 32 & 6.8 & 3.4 & 1.00 & 1\\\\\n",
       "\t 38 & Male & 1.0 & 0.3 & 216 & 21 & 24 & 7.3 & 4.4 & 1.50 & 2\\\\\n",
       "\\end{tabular}\n"
      ],
      "text/markdown": [
       "\n",
       "A spec_tbl_df: 583 × 11\n",
       "\n",
       "| Age &lt;dbl&gt; | Gender &lt;chr&gt; | Total_Bilirubin &lt;dbl&gt; | Direct_Bilirubin &lt;dbl&gt; | Alkaline_Phosphotase &lt;dbl&gt; | Alamine_Aminotransferase &lt;dbl&gt; | Aspartate_Aminotransferase &lt;dbl&gt; | Total_Protiens &lt;dbl&gt; | Albumin &lt;dbl&gt; | Albumin_and_Globulin_Ratio &lt;dbl&gt; | Dataset &lt;dbl&gt; |\n",
       "|---|---|---|---|---|---|---|---|---|---|---|\n",
       "| 65 | Female |  0.7 | 0.1 | 187 | 16 |  18 | 6.8 | 3.3 | 0.90 | 1 |\n",
       "| 62 | Male   | 10.9 | 5.5 | 699 | 64 | 100 | 7.5 | 3.2 | 0.74 | 1 |\n",
       "| 62 | Male   |  7.3 | 4.1 | 490 | 60 |  68 | 7.0 | 3.3 | 0.89 | 1 |\n",
       "| 58 | Male   |  1.0 | 0.4 | 182 | 14 |  20 | 6.8 | 3.4 | 1.00 | 1 |\n",
       "| 72 | Male   |  3.9 | 2.0 | 195 | 27 |  59 | 7.3 | 2.4 | 0.40 | 1 |\n",
       "| ⋮ | ⋮ | ⋮ | ⋮ | ⋮ | ⋮ | ⋮ | ⋮ | ⋮ | ⋮ | ⋮ |\n",
       "| 60 | Male | 0.5 | 0.1 | 500 | 20 | 34 | 5.9 | 1.6 | 0.37 | 2 |\n",
       "| 40 | Male | 0.6 | 0.1 |  98 | 35 | 31 | 6.0 | 3.2 | 1.10 | 1 |\n",
       "| 52 | Male | 0.8 | 0.2 | 245 | 48 | 49 | 6.4 | 3.2 | 1.00 | 1 |\n",
       "| 31 | Male | 1.3 | 0.5 | 184 | 29 | 32 | 6.8 | 3.4 | 1.00 | 1 |\n",
       "| 38 | Male | 1.0 | 0.3 | 216 | 21 | 24 | 7.3 | 4.4 | 1.50 | 2 |\n",
       "\n"
      ],
      "text/plain": [
       "    Age Gender Total_Bilirubin Direct_Bilirubin Alkaline_Phosphotase\n",
       "1   65  Female  0.7            0.1              187                 \n",
       "2   62  Male   10.9            5.5              699                 \n",
       "3   62  Male    7.3            4.1              490                 \n",
       "4   58  Male    1.0            0.4              182                 \n",
       "5   72  Male    3.9            2.0              195                 \n",
       "⋮   ⋮   ⋮      ⋮               ⋮                ⋮                   \n",
       "579 60  Male   0.5             0.1              500                 \n",
       "580 40  Male   0.6             0.1               98                 \n",
       "581 52  Male   0.8             0.2              245                 \n",
       "582 31  Male   1.3             0.5              184                 \n",
       "583 38  Male   1.0             0.3              216                 \n",
       "    Alamine_Aminotransferase Aspartate_Aminotransferase Total_Protiens Albumin\n",
       "1   16                        18                        6.8            3.3    \n",
       "2   64                       100                        7.5            3.2    \n",
       "3   60                        68                        7.0            3.3    \n",
       "4   14                        20                        6.8            3.4    \n",
       "5   27                        59                        7.3            2.4    \n",
       "⋮   ⋮                        ⋮                          ⋮              ⋮      \n",
       "579 20                       34                         5.9            1.6    \n",
       "580 35                       31                         6.0            3.2    \n",
       "581 48                       49                         6.4            3.2    \n",
       "582 29                       32                         6.8            3.4    \n",
       "583 21                       24                         7.3            4.4    \n",
       "    Albumin_and_Globulin_Ratio Dataset\n",
       "1   0.90                       1      \n",
       "2   0.74                       1      \n",
       "3   0.89                       1      \n",
       "4   1.00                       1      \n",
       "5   0.40                       1      \n",
       "⋮   ⋮                          ⋮      \n",
       "579 0.37                       2      \n",
       "580 1.10                       1      \n",
       "581 1.00                       1      \n",
       "582 1.00                       1      \n",
       "583 1.50                       2      "
      ]
     },
     "metadata": {},
     "output_type": "display_data"
    }
   ],
   "source": [
    "read_csv(\"indian_liver_patient.csv\")"
   ]
  },
  {
   "cell_type": "code",
   "execution_count": null,
   "id": "0eb3f0ec-eb1c-4402-93a3-4e236d6f2bf9",
   "metadata": {},
   "outputs": [],
   "source": []
  }
 ],
 "metadata": {
  "kernelspec": {
   "display_name": "R",
   "language": "R",
   "name": "ir"
  },
  "language_info": {
   "codemirror_mode": "r",
   "file_extension": ".r",
   "mimetype": "text/x-r-source",
   "name": "R",
   "pygments_lexer": "r",
   "version": "4.1.3"
  }
 },
 "nbformat": 4,
 "nbformat_minor": 5
}
